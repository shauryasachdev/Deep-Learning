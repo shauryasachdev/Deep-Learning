{
  "nbformat": 4,
  "nbformat_minor": 0,
  "metadata": {
    "colab": {
      "provenance": [],
      "authorship_tag": "ABX9TyOecqje7zxHCNJHKg24ilMj",
      "include_colab_link": true
    },
    "kernelspec": {
      "name": "python3",
      "display_name": "Python 3"
    },
    "language_info": {
      "name": "python"
    }
  },
  "cells": [
    {
      "cell_type": "markdown",
      "metadata": {
        "id": "view-in-github",
        "colab_type": "text"
      },
      "source": [
        "<a href=\"https://colab.research.google.com/github/shauryasachdev/Deep-Learning/blob/main/Neural_Network_Forward_Propagation.ipynb\" target=\"_parent\"><img src=\"https://colab.research.google.com/assets/colab-badge.svg\" alt=\"Open In Colab\"/></a>"
      ]
    },
    {
      "cell_type": "code",
      "source": [
        "import numpy as np"
      ],
      "metadata": {
        "id": "IYEJE6AlBqDW"
      },
      "execution_count": 8,
      "outputs": []
    },
    {
      "cell_type": "code",
      "source": [
        "n = 2                 # no. of inputs\n",
        "num_hidden_layers = 2 # no. of hidden layers\n",
        "m = [2,2]             # no. of nodes in each hidden layer\n",
        "num_nodes_output = 1  # no. of nodes in the output layer #####################"
      ],
      "metadata": {
        "id": "X8Q4pPVxB3X5"
      },
      "execution_count": 9,
      "outputs": []
    },
    {
      "cell_type": "code",
      "source": [
        "num_nodes_previous = n     # no. of nodes in the previous layer\n",
        "\n",
        "network = {}               # initializing the network as an empty dictionary\n",
        "\n",
        "for layer in range(num_hidden_layers + 1):\n",
        "\n",
        "  # determining the name of the layer\n",
        "  if layer == num_hidden_layers:\n",
        "    layer_name = 'output'\n",
        "    num_nodes = num_nodes_output\n",
        "  else:\n",
        "    layer_name = 'layer_{}'.format(layer + 1)\n",
        "    num_nodes = m[layer]\n",
        "\n",
        "  # initializing the weights and the biases with each node in the current layer\n",
        "  network[layer_name] = {}\n",
        "  for node in range(num_nodes):\n",
        "    node_name = 'node_{}'.format(node + 1)\n",
        "    network[layer_name][node_name] = {\n",
        "        'weights': np.around(np.random.uniform(size = num_nodes_previous), decimals = 2),\n",
        "        'bias': np.around(np.random.uniform(size = 1), decimals = 2),\n",
        "    }\n",
        "\n",
        "    num_nodes_previous = num_nodes\n",
        "\n",
        "print(network)\n"
      ],
      "metadata": {
        "colab": {
          "base_uri": "https://localhost:8080/"
        },
        "id": "dGGj8GetCRIM",
        "outputId": "f31e368b-237f-4cba-a0c0-cfab91d679df"
      },
      "execution_count": 13,
      "outputs": [
        {
          "output_type": "stream",
          "name": "stdout",
          "text": [
            "{'layer_1': {'node_1': {'weights': array([0.46, 0.3 ]), 'bias': array([0.77])}, 'node_2': {'weights': array([0.14, 0.94]), 'bias': array([0.87])}}, 'layer_2': {'node_1': {'weights': array([0.72, 0.76]), 'bias': array([0.44])}, 'node_2': {'weights': array([0.26, 0.21]), 'bias': array([0.29])}}, 'output': {'node_1': {'weights': array([0.81, 0.14]), 'bias': array([0.52])}}}\n"
          ]
        }
      ]
    },
    {
      "cell_type": "code",
      "source": [
        "n = 5                 # no. of inputs\n",
        "num_hidden_layers = 3 # no. of hidden layers\n",
        "m = [3,2,3]             # no. of nodes in each hidden layer\n",
        "num_nodes_output = 1  # no. of nodes in the output layer"
      ],
      "metadata": {
        "id": "zmksrDXLDaCF"
      },
      "execution_count": 27,
      "outputs": []
    },
    {
      "cell_type": "code",
      "source": [
        "num_nodes_previous = n     # no. of nodes in the previous layer\n",
        "\n",
        "small_network = {}               # initializing the network as an empty dictionary\n",
        "\n",
        "for layer in range(num_hidden_layers + 1):\n",
        "\n",
        "  # determining the name of the layer\n",
        "  if layer == num_hidden_layers:\n",
        "    layer_name = 'output'\n",
        "    num_nodes = num_nodes_output\n",
        "  else:\n",
        "    layer_name = 'layer_{}'.format(layer + 1)\n",
        "    num_nodes = m[layer]\n",
        "\n",
        "  # initializing the weights and the biases with each node in the current layer\n",
        "  small_network[layer_name] = {}\n",
        "  for node in range(num_nodes):\n",
        "    node_name = 'node_{}'.format(node + 1)\n",
        "    small_network[layer_name][node_name] = {\n",
        "        'weights': np.around(np.random.uniform(size = num_nodes_previous), decimals = 2),\n",
        "        'bias': np.around(np.random.uniform(size = 1), decimals = 2),\n",
        "    }\n",
        "\n",
        "  num_nodes_previous = num_nodes\n",
        "\n",
        "print(small_network)"
      ],
      "metadata": {
        "colab": {
          "base_uri": "https://localhost:8080/"
        },
        "id": "gT0vBCPbIjGl",
        "outputId": "b373d8cf-8dae-4758-fb6d-8e5d186c077d"
      },
      "execution_count": 78,
      "outputs": [
        {
          "output_type": "stream",
          "name": "stdout",
          "text": [
            "{'layer_1': {'node_1': {'weights': array([0.92, 0.9 , 0.03, 0.96, 0.14]), 'bias': array([0.28])}, 'node_2': {'weights': array([0.61, 0.94, 0.85, 0.  , 0.52]), 'bias': array([0.55])}, 'node_3': {'weights': array([0.49, 0.77, 0.16, 0.76, 0.02]), 'bias': array([0.14])}}, 'layer_2': {'node_1': {'weights': array([0.12, 0.31, 0.67]), 'bias': array([0.47])}, 'node_2': {'weights': array([0.82, 0.29, 0.73]), 'bias': array([0.7])}}, 'layer_3': {'node_1': {'weights': array([0.33, 0.33]), 'bias': array([0.98])}, 'node_2': {'weights': array([0.62, 0.95]), 'bias': array([0.77])}, 'node_3': {'weights': array([0.83, 0.41]), 'bias': array([0.45])}}, 'output': {'node_1': {'weights': array([0.4 , 1.  , 0.18]), 'bias': array([0.96])}}}\n"
          ]
        }
      ]
    },
    {
      "cell_type": "code",
      "source": [
        "def compute_weighted_sum(inputs, weights, bias):\n",
        "  return np.sum(inputs * weights) + bias"
      ],
      "metadata": {
        "id": "W3dtF9edIq8D"
      },
      "execution_count": 79,
      "outputs": []
    },
    {
      "cell_type": "code",
      "source": [
        "def node_activation(weighted_sum):\n",
        "  return (1.0 / (1.0 + np.exp(-1 * weighted_sum)))"
      ],
      "metadata": {
        "id": "upJeBCccJWC3"
      },
      "execution_count": 80,
      "outputs": []
    },
    {
      "cell_type": "code",
      "source": [
        "from random import seed\n",
        "\n",
        "np.random.seed(12)\n",
        "\n",
        "inputs = np.around(np.random.uniform(size = 5), decimals = 2)\n",
        "\n",
        "print('The inputs to the network are {}'. format(inputs))"
      ],
      "metadata": {
        "colab": {
          "base_uri": "https://localhost:8080/"
        },
        "id": "wJI1ZWrzKvm6",
        "outputId": "9f9c12b4-d575-40cc-e9ae-8dfb02c6ff13"
      },
      "execution_count": 81,
      "outputs": [
        {
          "output_type": "stream",
          "name": "stdout",
          "text": [
            "The inputs to the network are [0.15 0.74 0.26 0.53 0.01]\n"
          ]
        }
      ]
    },
    {
      "cell_type": "code",
      "source": [
        "# computing the weighted sum in the first node in the first hidden layer\n",
        "\n",
        "node_weights = small_network['layer_1']['node_1']['weights']\n",
        "node_bias = small_network['layer_1']['node_1']['bias']\n",
        "\n",
        "print('The weights of the node are {}'. format(node_weights))\n",
        "print('The bias of the node is {}'. format(node_bias))\n",
        "\n",
        "weighted_sum = compute_weighted_sum(inputs, node_weights, node_bias)\n",
        "\n",
        "print('The weighted sum at the first node of the first layer is {}'.format(np.around(weighted_sum[0], decimals = 4)))\n",
        "\n",
        "node_output = node_activation(weighted_sum)\n",
        "\n",
        "print('The output of the first node of the first layer is {}'.format(np.around(node_output[0], decimals = 4)))"
      ],
      "metadata": {
        "colab": {
          "base_uri": "https://localhost:8080/"
        },
        "id": "6Lo0YseVLKqS",
        "outputId": "8ed3f720-60c7-4ec5-b453-fd8b67cdba3b"
      },
      "execution_count": 82,
      "outputs": [
        {
          "output_type": "stream",
          "name": "stdout",
          "text": [
            "The weights of the node are [0.92 0.9  0.03 0.96 0.14]\n",
            "The bias of the node is [0.28]\n",
            "The weighted sum at the first node of the first layer is 1.602\n",
            "The output of the first node of the first layer is 0.8323\n"
          ]
        }
      ]
    },
    {
      "cell_type": "code",
      "source": [
        "def forward_propagate(network, inputs):\n",
        "\n",
        "    layer_inputs = list(inputs) # start with the input layer as the input to the first hidden layer\n",
        "\n",
        "    for layer in network:\n",
        "\n",
        "        layer_data = network[layer]\n",
        "\n",
        "        layer_outputs = []\n",
        "        for layer_node in layer_data:\n",
        "\n",
        "            node_data = layer_data[layer_node]\n",
        "\n",
        "            # compute the weighted sum and the output of each node at the same time\n",
        "            node_output = node_activation(compute_weighted_sum(layer_inputs, node_data['weights'], node_data['bias']))\n",
        "            layer_outputs.append(np.around(node_output[0], decimals=4))\n",
        "\n",
        "        if layer != 'output':\n",
        "            print('The outputs of the nodes in hidden layer number {} is {}'.format(layer.split('_')[1], layer_outputs))\n",
        "\n",
        "        layer_inputs = layer_outputs # set the output of this layer to be the input to next layer\n",
        "\n",
        "    network_predictions = layer_outputs\n",
        "    return network_predictions"
      ],
      "metadata": {
        "id": "35wLO6XoL93Y"
      },
      "execution_count": 85,
      "outputs": []
    },
    {
      "cell_type": "code",
      "source": [
        "predictions = forward_propagate(small_network, inputs)\n",
        "print('The predicted value by the network for the given input is {}'.format(np.around(predictions[0], decimals=4)))"
      ],
      "metadata": {
        "colab": {
          "base_uri": "https://localhost:8080/"
        },
        "id": "VxAp_4L6Vqhq",
        "outputId": "6c08f2c6-797b-4b7f-eb58-24ce9b756e04"
      },
      "execution_count": 86,
      "outputs": [
        {
          "output_type": "stream",
          "name": "stdout",
          "text": [
            "The outputs of the nodes in hidden layer number 1 is [np.float64(0.8323), np.float64(0.8268), np.float64(0.7735)]\n",
            "The outputs of the nodes in hidden layer number 2 is [np.float64(0.7932), np.float64(0.8991)]\n",
            "The outputs of the nodes in hidden layer number 3 is [np.float64(0.8232), np.float64(0.8924), np.float64(0.8141)]\n",
            "The predicted value by the network for the given input is 0.9112\n"
          ]
        }
      ]
    },
    {
      "cell_type": "code",
      "source": [],
      "metadata": {
        "id": "1DzztBAZWBhV"
      },
      "execution_count": null,
      "outputs": []
    }
  ]
}